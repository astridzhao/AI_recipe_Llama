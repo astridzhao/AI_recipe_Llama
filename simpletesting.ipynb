{
 "cells": [
  {
   "cell_type": "code",
   "execution_count": 1,
   "metadata": {},
   "outputs": [
    {
     "name": "stdout",
     "output_type": "stream",
     "text": [
      "This is what I want to print.\n"
     ]
    }
   ],
   "source": [
    "def print_after_inst(text):\n",
    "    # Find the index of [/INST]\n",
    "    inst_index = text.find('[/INST]')\n",
    "    # Check if [/INST] is found in the text\n",
    "    if inst_index != -1:\n",
    "        # Print everything after [/INST]\n",
    "        print(text[inst_index + len('[/INST]'):].strip())\n",
    "    else:\n",
    "        # If [/INST] is not in text, print nothing or some message\n",
    "        print(\"No text after [/INST]\")\n",
    "\n",
    "# Example usage:\n",
    "text = \"Some text [/INST] This is what I want to print.\"\n",
    "print_after_inst(text)\n"
   ]
  }
 ],
 "metadata": {
  "kernelspec": {
   "display_name": "venv",
   "language": "python",
   "name": "python3"
  },
  "language_info": {
   "codemirror_mode": {
    "name": "ipython",
    "version": 3
   },
   "file_extension": ".py",
   "mimetype": "text/x-python",
   "name": "python",
   "nbconvert_exporter": "python",
   "pygments_lexer": "ipython3",
   "version": "3.10.11"
  }
 },
 "nbformat": 4,
 "nbformat_minor": 2
}
