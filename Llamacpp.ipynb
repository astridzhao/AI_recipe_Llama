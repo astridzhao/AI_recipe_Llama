{
 "cells": [
  {
   "cell_type": "markdown",
   "id": "829c1549-3fdd-459d-bd51-3e45e6c2e256",
   "metadata": {},
   "source": [
    "This code is following the instruction: jupyter_code_llama. https://github.com/TrelisResearch/jupyter-code-llama/blob/main/Jupyter_Code_Llama.ipynb"
   ]
  }
 ],
 "metadata": {
  "kernelspec": {
   "display_name": "venv",
   "language": "python",
   "name": "venv"
  },
  "language_info": {
   "codemirror_mode": {
    "name": "ipython",
    "version": 3
   },
   "file_extension": ".py",
   "mimetype": "text/x-python",
   "name": "python",
   "nbconvert_exporter": "python",
   "pygments_lexer": "ipython3",
   "version": "3.10.11"
  }
 },
 "nbformat": 4,
 "nbformat_minor": 5
}
